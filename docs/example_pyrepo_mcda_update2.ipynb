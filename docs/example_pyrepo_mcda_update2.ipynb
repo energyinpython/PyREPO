{
 "cells": [
  {
   "cell_type": "markdown",
   "id": "9021cf31-5181-420a-8d77-8bd0baf69841",
   "metadata": {},
   "source": [
    "# Illustrative example of VMCM and CoCoSo methods"
   ]
  },
  {
   "cell_type": "markdown",
   "id": "4f8acda2-65a5-427f-86ee-c06fb7a912ae",
   "metadata": {},
   "source": [
    "## Import necessary packages"
   ]
  },
  {
   "cell_type": "markdown",
   "id": "39f7a6ce-fcf4-47bb-bbf7-71d597fff4d5",
   "metadata": {},
   "source": [
    "Import of the necessary Python packages necessary for running codes provided in examples.\r\n"
   ]
  },
  {
   "cell_type": "code",
   "execution_count": 1,
   "id": "941989f7-0465-4ab6-8fa3-4f7183246872",
   "metadata": {},
   "outputs": [],
   "source": [
    "import numpy as np\n",
    "import pandas as pd\n",
    "import matplotlib.pyplot as plt\n",
    "import seaborn as sns\n",
    "import copy"
   ]
  },
  {
   "cell_type": "markdown",
   "id": "3838bd78-f197-4f70-b026-e4346cba6939",
   "metadata": {},
   "source": [
    "Import the necessary Python modules from `pyrepo-mcda` package."
   ]
  },
  {
   "cell_type": "code",
   "execution_count": 2,
   "id": "0916b3d6-0d64-4bab-840c-7576b432b8da",
   "metadata": {},
   "outputs": [],
   "source": [
    "from pyrepo_mcda.additions import rank_preferences\n",
    "from pyrepo_mcda.mcda_methods import VMCM, TOPSIS, EDAS, VIKOR, PROMETHEE_II, PROSA_C, COCOSO\n",
    "from pyrepo_mcda import normalizations as norms\n",
    "from pyrepo_mcda import correlations as corrs"
   ]
  },
  {
   "cell_type": "markdown",
   "id": "c23437c9-80d2-4ad5-93a8-2c4ff060125a",
   "metadata": {},
   "source": [
    "Supporting function for running provided examples including visualization. Here is function called `draw_heatmap` for displaying heat map with rankings correlations. You can copy and customize its code to your case. Class `Create_dictionary` helps create a correlation matrix to show rankings correlations."
   ]
  },
  {
   "cell_type": "code",
   "execution_count": 3,
   "id": "e349121d-5547-4ca4-87b0-5a16b557b041",
   "metadata": {},
   "outputs": [],
   "source": [
    "# heat maps with correlations\n",
    "def draw_heatmap(df_new_heatmap, title):\n",
    "    \"\"\"\n",
    "    Visualization method to display heatmap with correlations of compared rankings generated using different methods\n",
    "    \n",
    "    Parameters\n",
    "    ----------\n",
    "        data : DataFrame\n",
    "            DataFrame with correlation values between compared rankings\n",
    "        \n",
    "    Examples\n",
    "    ---------\n",
    "    >>> draw_heatmap(df_new_heatmap)\n",
    "    \"\"\"\n",
    "    \n",
    "    plt.figure(figsize = (11, 5))\n",
    "    sns.set(font_scale = 1.2)\n",
    "    heatmap = sns.heatmap(df_new_heatmap, annot=True, fmt=\".4f\", cmap=\"YlGnBu\",\n",
    "                          linewidth=0.5, linecolor='w')\n",
    "    plt.yticks(va=\"center\")\n",
    "    plt.yticks(va=\"center\")\n",
    "    plt.xlabel('MCDA methods')\n",
    "    plt.ylabel('MCDA methods')\n",
    "    plt.title('Correlation coefficient: ' + title)\n",
    "    plt.tight_layout()\n",
    "    plt.savefig('./results_update2/heatmap.pdf')\n",
    "    plt.savefig('./results_update2/heatmap.eps')\n",
    "    plt.show()\n",
    "\n",
    "# Create dictionary class\n",
    "class Create_dictionary(dict):\n",
    "  \n",
    "    # __init__ function\n",
    "    def __init__(self):\n",
    "        self = dict()\n",
    "          \n",
    "    # Function to add key:value\n",
    "    def add(self, key, value):\n",
    "        self[key] = value"
   ]
  },
  {
   "cell_type": "markdown",
   "id": "e1ca888d-8d03-44f9-a023-369ec38a80d4",
   "metadata": {},
   "source": [
    "## Using the VMCM method"
   ]
  },
  {
   "cell_type": "markdown",
   "id": "9a74c25e-428e-4790-b774-3dc28b899546",
   "metadata": {},
   "source": [
    "### Select criteria assessment, define criteria types, load the data of alternatives"
   ]
  },
  {
   "cell_type": "markdown",
   "id": "707ddaa9-1153-45a1-97b1-fa3f38f60631",
   "metadata": {},
   "source": [
    "An example decision problem involves selecting the best Waste-to-Energy system for the City of Johannesburg in South Africa based on Alao, M. A., Popoola, O. M., & Ayodele, T. R. (2021). Selection of waste-to-energy technology for distributed generation using IDOCRIW-Weighted TOPSIS method: A case study of the City of Johannesburg, South Africa. Renewable Energy, 178, 162-183. DOI: https://doi.org/10.1016/j.renene.2021.06.031\n",
    "\n",
    "The problem considers five alternatives (A1-A5) evaluated against 14 criteria (C1-C14). The last row, named Type, denotes criteria types, where 1 represents profit criteria with the aim of maximization, and -1 defines cost criteria with the objective of minimization."
   ]
  },
  {
   "cell_type": "code",
   "execution_count": 4,
   "id": "35a91685-4321-4f04-b4ba-342525c93478",
   "metadata": {},
   "outputs": [],
   "source": [
    "# Load data including decision matrix and criteria types\n",
    "data = pd.read_csv('dataset_waste.csv', index_col = 'Alternative')"
   ]
  },
  {
   "cell_type": "code",
   "execution_count": 5,
   "id": "19e8ffbd-6660-4089-a956-e9af7ccbffec",
   "metadata": {},
   "outputs": [
    {
     "data": {
      "text/html": [
       "<div>\n",
       "<style scoped>\n",
       "    .dataframe tbody tr th:only-of-type {\n",
       "        vertical-align: middle;\n",
       "    }\n",
       "\n",
       "    .dataframe tbody tr th {\n",
       "        vertical-align: top;\n",
       "    }\n",
       "\n",
       "    .dataframe thead th {\n",
       "        text-align: right;\n",
       "    }\n",
       "</style>\n",
       "<table border=\"1\" class=\"dataframe\">\n",
       "  <thead>\n",
       "    <tr style=\"text-align: right;\">\n",
       "      <th></th>\n",
       "      <th>C1</th>\n",
       "      <th>C2</th>\n",
       "      <th>C3</th>\n",
       "      <th>C4</th>\n",
       "      <th>C5</th>\n",
       "      <th>C6</th>\n",
       "      <th>C7</th>\n",
       "      <th>C8</th>\n",
       "      <th>C9</th>\n",
       "      <th>C10</th>\n",
       "      <th>C11</th>\n",
       "      <th>C12</th>\n",
       "      <th>C13</th>\n",
       "      <th>C14</th>\n",
       "    </tr>\n",
       "    <tr>\n",
       "      <th>Alternative</th>\n",
       "      <th></th>\n",
       "      <th></th>\n",
       "      <th></th>\n",
       "      <th></th>\n",
       "      <th></th>\n",
       "      <th></th>\n",
       "      <th></th>\n",
       "      <th></th>\n",
       "      <th></th>\n",
       "      <th></th>\n",
       "      <th></th>\n",
       "      <th></th>\n",
       "      <th></th>\n",
       "      <th></th>\n",
       "    </tr>\n",
       "  </thead>\n",
       "  <tbody>\n",
       "    <tr>\n",
       "      <th>A1 (AD)</th>\n",
       "      <td>682.56</td>\n",
       "      <td>20</td>\n",
       "      <td>8.4167</td>\n",
       "      <td>8.4167</td>\n",
       "      <td>370.2000</td>\n",
       "      <td>17.8110</td>\n",
       "      <td>127.270</td>\n",
       "      <td>7.55</td>\n",
       "      <td>0.0951</td>\n",
       "      <td>20.092</td>\n",
       "      <td>0.003483</td>\n",
       "      <td>8.4167</td>\n",
       "      <td>8.1467</td>\n",
       "      <td>8.4167</td>\n",
       "    </tr>\n",
       "    <tr>\n",
       "      <th>A2 (LFGR)</th>\n",
       "      <td>69.10</td>\n",
       "      <td>10</td>\n",
       "      <td>8.4167</td>\n",
       "      <td>8.4167</td>\n",
       "      <td>16.4170</td>\n",
       "      <td>4.1029</td>\n",
       "      <td>110.060</td>\n",
       "      <td>4.62</td>\n",
       "      <td>0.1156</td>\n",
       "      <td>148.410</td>\n",
       "      <td>0.103280</td>\n",
       "      <td>9.6667</td>\n",
       "      <td>2.9167</td>\n",
       "      <td>1.4167</td>\n",
       "    </tr>\n",
       "    <tr>\n",
       "      <th>A3 (INC)</th>\n",
       "      <td>882.43</td>\n",
       "      <td>26</td>\n",
       "      <td>9.6667</td>\n",
       "      <td>1.4167</td>\n",
       "      <td>733.1100</td>\n",
       "      <td>2.3826</td>\n",
       "      <td>11.565</td>\n",
       "      <td>6.96</td>\n",
       "      <td>0.1005</td>\n",
       "      <td>1169.800</td>\n",
       "      <td>366.600000</td>\n",
       "      <td>1.4167</td>\n",
       "      <td>0.4167</td>\n",
       "      <td>1.4167</td>\n",
       "    </tr>\n",
       "    <tr>\n",
       "      <th>A4 (GAS)</th>\n",
       "      <td>2842.20</td>\n",
       "      <td>30</td>\n",
       "      <td>1.4167</td>\n",
       "      <td>1.4167</td>\n",
       "      <td>1393.5000</td>\n",
       "      <td>81.0300</td>\n",
       "      <td>323.950</td>\n",
       "      <td>10.99</td>\n",
       "      <td>0.0626</td>\n",
       "      <td>288.620</td>\n",
       "      <td>0.288200</td>\n",
       "      <td>1.4167</td>\n",
       "      <td>1.4167</td>\n",
       "      <td>1.4167</td>\n",
       "    </tr>\n",
       "    <tr>\n",
       "      <th>A5 (PYR)</th>\n",
       "      <td>434.12</td>\n",
       "      <td>15</td>\n",
       "      <td>1.4167</td>\n",
       "      <td>1.4167</td>\n",
       "      <td>7.0315</td>\n",
       "      <td>18.3700</td>\n",
       "      <td>247.490</td>\n",
       "      <td>5.99</td>\n",
       "      <td>0.0501</td>\n",
       "      <td>358.560</td>\n",
       "      <td>16.100000</td>\n",
       "      <td>1.4167</td>\n",
       "      <td>1.4167</td>\n",
       "      <td>1.4167</td>\n",
       "    </tr>\n",
       "    <tr>\n",
       "      <th>Type</th>\n",
       "      <td>1.00</td>\n",
       "      <td>1</td>\n",
       "      <td>1.0000</td>\n",
       "      <td>1.0000</td>\n",
       "      <td>-1.0000</td>\n",
       "      <td>-1.0000</td>\n",
       "      <td>1.000</td>\n",
       "      <td>-1.00</td>\n",
       "      <td>-1.0000</td>\n",
       "      <td>-1.000</td>\n",
       "      <td>-1.000000</td>\n",
       "      <td>-1.0000</td>\n",
       "      <td>1.0000</td>\n",
       "      <td>1.0000</td>\n",
       "    </tr>\n",
       "  </tbody>\n",
       "</table>\n",
       "</div>"
      ],
      "text/plain": [
       "                  C1  C2      C3      C4         C5       C6       C7     C8  \\\n",
       "Alternative                                                                    \n",
       "A1 (AD)       682.56  20  8.4167  8.4167   370.2000  17.8110  127.270   7.55   \n",
       "A2 (LFGR)      69.10  10  8.4167  8.4167    16.4170   4.1029  110.060   4.62   \n",
       "A3 (INC)      882.43  26  9.6667  1.4167   733.1100   2.3826   11.565   6.96   \n",
       "A4 (GAS)     2842.20  30  1.4167  1.4167  1393.5000  81.0300  323.950  10.99   \n",
       "A5 (PYR)      434.12  15  1.4167  1.4167     7.0315  18.3700  247.490   5.99   \n",
       "Type            1.00   1  1.0000  1.0000    -1.0000  -1.0000    1.000  -1.00   \n",
       "\n",
       "                 C9       C10         C11     C12     C13     C14  \n",
       "Alternative                                                        \n",
       "A1 (AD)      0.0951    20.092    0.003483  8.4167  8.1467  8.4167  \n",
       "A2 (LFGR)    0.1156   148.410    0.103280  9.6667  2.9167  1.4167  \n",
       "A3 (INC)     0.1005  1169.800  366.600000  1.4167  0.4167  1.4167  \n",
       "A4 (GAS)     0.0626   288.620    0.288200  1.4167  1.4167  1.4167  \n",
       "A5 (PYR)     0.0501   358.560   16.100000  1.4167  1.4167  1.4167  \n",
       "Type        -1.0000    -1.000   -1.000000 -1.0000  1.0000  1.0000  "
      ]
     },
     "execution_count": 5,
     "metadata": {},
     "output_type": "execute_result"
    }
   ],
   "source": [
    "data"
   ]
  },
  {
   "cell_type": "markdown",
   "id": "5473e43d-24c0-4050-bb5b-caec2056e654",
   "metadata": {},
   "source": [
    "Prepare decision matrix and criteria types as `numpy.ndarray` types. Then prepare dataframe for VMCM results."
   ]
  },
  {
   "cell_type": "code",
   "execution_count": 6,
   "id": "b75cd6a1-0521-41c6-988e-e1a4eba484e5",
   "metadata": {},
   "outputs": [],
   "source": [
    "df_data = data.iloc[:len(data) - 1, :]\n",
    "types = data.iloc[len(data) - 1, :].to_numpy()\n",
    "matrix = df_data.to_numpy()\n",
    "\n",
    "# Prepare dataframe for VMCM results\n",
    "df_vmcm = pd.DataFrame(index=df_data.index)"
   ]
  },
  {
   "cell_type": "markdown",
   "id": "956e580a-f6b7-441f-b9e3-7739b5293c15",
   "metadata": {},
   "source": [
    "### Initialize the VMCM object"
   ]
  },
  {
   "cell_type": "markdown",
   "id": "554b6de4-640b-48c5-ac47-dd4126fdea76",
   "metadata": {},
   "source": [
    "Initialize the VMCM object. Then, determine criteria weights using the function `_weighting` for criteria weighting available in the VMCM class."
   ]
  },
  {
   "cell_type": "code",
   "execution_count": 7,
   "id": "503836f6-2ab1-4d01-a37d-ef64643f5455",
   "metadata": {},
   "outputs": [],
   "source": [
    "# Initialize the VMCM method object\n",
    "vmcm = VMCM()"
   ]
  },
  {
   "cell_type": "markdown",
   "id": "a3fa58fc-d1b6-4821-bc4f-31b5d622d25e",
   "metadata": {},
   "source": [
    "### Eliminate variables"
   ]
  },
  {
   "cell_type": "code",
   "execution_count": 8,
   "id": "f2fe4810-99f2-4eb4-b944-9ecd93e62c97",
   "metadata": {},
   "outputs": [
    {
     "name": "stdout",
     "output_type": "stream",
     "text": [
      "Elimination of variables stage (significance coefficient of features):\n",
      "C1 = 1.1030\n",
      "C2 = 0.3997\n",
      "C3 = 0.6979\n",
      "C4 = 0.9093\n",
      "C5 = 1.1510\n",
      "C6 = 1.3071\n",
      "C7 = 0.7468\n",
      "C8 = 0.3296\n",
      "C9 = 0.3229\n",
      "C10 = 1.1362\n",
      "C11 = 2.1176\n",
      "C12 = 0.9402\n",
      "C13 = 1.0779\n",
      "C14 = 1.1114\n",
      "Criteria to eliminate:\n",
      "None\n"
     ]
    }
   ],
   "source": [
    "# Print the criteria to be eliminated\n",
    "vmcm._elimination(matrix)"
   ]
  },
  {
   "cell_type": "markdown",
   "id": "882998a9-aef0-4e06-894c-cd8464c22631",
   "metadata": {},
   "source": [
    "### Assign weights to criteria assessment"
   ]
  },
  {
   "cell_type": "code",
   "execution_count": 9,
   "id": "5fc5bf05-c2a7-443a-a896-97504b867def",
   "metadata": {},
   "outputs": [],
   "source": [
    "# Determine criteria weights\n",
    "weights = vmcm._weighting(matrix)"
   ]
  },
  {
   "cell_type": "markdown",
   "id": "884f3c40-729b-44cf-892b-ac9d9740e3de",
   "metadata": {},
   "source": [
    "Print weights calculated for criteria assessment."
   ]
  },
  {
   "cell_type": "code",
   "execution_count": 10,
   "id": "aca51c70-18ad-4072-8092-8924917861d6",
   "metadata": {},
   "outputs": [
    {
     "data": {
      "text/plain": [
       "array([0.08261625, 0.02994112, 0.05227225, 0.06810541, 0.08621138,\n",
       "       0.09790768, 0.05593705, 0.02468653, 0.02418794, 0.08510636,\n",
       "       0.15861659, 0.07042509, 0.08073944, 0.08324691])"
      ]
     },
     "execution_count": 10,
     "metadata": {},
     "output_type": "execute_result"
    }
   ],
   "source": [
    "weights"
   ]
  },
  {
   "cell_type": "markdown",
   "id": "cae0c5a7-cd0b-4963-856f-48e20835d058",
   "metadata": {},
   "source": [
    "### Determine pattern and anti-pattern"
   ]
  },
  {
   "cell_type": "markdown",
   "id": "c368538f-6d27-4b64-a032-c40374dd8d22",
   "metadata": {},
   "source": [
    "Determine and display criteria that should be eliminated from the model because of the low value of the significance coefficient (between 0 and 0.1)."
   ]
  },
  {
   "cell_type": "markdown",
   "id": "dd459c25-5101-4282-a1ba-6d372b9ce451",
   "metadata": {},
   "source": [
    "Determine pattern and anti-pattern using function `_pattern_determination` provided in the VMCM class."
   ]
  },
  {
   "cell_type": "code",
   "execution_count": 11,
   "id": "8e38fc8c-1dae-4af6-b92e-a082d191fe3b",
   "metadata": {},
   "outputs": [],
   "source": [
    "# Determine pattern and anti-pattern\n",
    "pattern, antipattern = vmcm._pattern_determination(matrix, types)"
   ]
  },
  {
   "cell_type": "code",
   "execution_count": 12,
   "id": "31780dd0-928c-49a0-a402-3b02612cd316",
   "metadata": {},
   "outputs": [
    {
     "data": {
      "text/plain": [
       "array([-0.0919959 ,  0.71829724,  0.62283181,  1.09544512, -0.84052497,\n",
       "       -0.63815391,  0.68086454, -0.51759361, -0.81014919, -0.55117529,\n",
       "       -0.47158638, -0.72624194,  0.01749959, -0.4472136 ])"
      ]
     },
     "execution_count": 12,
     "metadata": {},
     "output_type": "execute_result"
    }
   ],
   "source": [
    "pattern"
   ]
  },
  {
   "cell_type": "code",
   "execution_count": 13,
   "id": "ad3facf8-d596-4408-b09f-dc6a8eb515b0",
   "metadata": {},
   "outputs": [
    {
     "data": {
      "text/plain": [
       "array([-0.50586297, -0.64399063, -1.08690257, -0.73029674,  0.39482264,\n",
       "       -0.19696234, -0.44078313,  0.1378009 ,  0.5741905 , -0.08541002,\n",
       "       -0.3729944 ,  0.94054284, -0.4686001 , -0.4472136 ])"
      ]
     },
     "execution_count": 13,
     "metadata": {},
     "output_type": "execute_result"
    }
   ],
   "source": [
    "antipattern"
   ]
  },
  {
   "cell_type": "markdown",
   "id": "05d072b3-fc66-4ba7-a1d1-28a0b1ec0d75",
   "metadata": {},
   "source": [
    "### Calculate the synthetic measure values for evaluated alternatives"
   ]
  },
  {
   "cell_type": "markdown",
   "id": "afb05eb9-2ec1-4c44-a9aa-aec11c8ec63a",
   "metadata": {},
   "source": [
    "Calculate synthetic measure values for each evaluated alternative. It is required for ranking alternatives and assigning classes to them. An alternative that got the highest synthetic measure value is considered the best evaluated option."
   ]
  },
  {
   "cell_type": "code",
   "execution_count": 14,
   "id": "e583acfc-b770-450e-8fd7-ba0600883db6",
   "metadata": {},
   "outputs": [],
   "source": [
    "# Calculate value of the synthetic measure for each object\n",
    "pref = vmcm(matrix, weights, types, pattern, antipattern)"
   ]
  },
  {
   "cell_type": "code",
   "execution_count": 15,
   "id": "abab682b-5fd7-47e9-8ce7-4b9a9fb27e36",
   "metadata": {},
   "outputs": [
    {
     "data": {
      "text/plain": [
       "array([0.58312231, 0.41569885, 0.38703968, 0.41406911, 0.50804565])"
      ]
     },
     "execution_count": 15,
     "metadata": {},
     "output_type": "execute_result"
    }
   ],
   "source": [
    "pref"
   ]
  },
  {
   "cell_type": "markdown",
   "id": "9ab9c772-8310-468a-a225-c57acb69bd1c",
   "metadata": {},
   "source": [
    "### Classify evaluated objects"
   ]
  },
  {
   "cell_type": "markdown",
   "id": "1fdc791f-b6ee-45a7-9767-ed008fc25ab0",
   "metadata": {},
   "source": [
    "Assign classes to evaluated alternatives based on synthetic measure values."
   ]
  },
  {
   "cell_type": "code",
   "execution_count": 16,
   "id": "cd04cef8-3285-461e-bcfe-d38714ecdfc2",
   "metadata": {},
   "outputs": [],
   "source": [
    "# Classify evaluated objects according to synthetic measure values\n",
    "classes = vmcm._classification(pref)"
   ]
  },
  {
   "cell_type": "code",
   "execution_count": 17,
   "id": "1e1e291f-858c-498f-9aba-03c3d386856f",
   "metadata": {},
   "outputs": [
    {
     "data": {
      "text/plain": [
       "array([1., 3., 3., 3., 2.])"
      ]
     },
     "execution_count": 17,
     "metadata": {},
     "output_type": "execute_result"
    }
   ],
   "source": [
    "classes"
   ]
  },
  {
   "cell_type": "markdown",
   "id": "c69b76f9-4551-4552-8ac7-a5ac3fed34af",
   "metadata": {},
   "source": [
    "### Rank evaluated objects"
   ]
  },
  {
   "cell_type": "code",
   "execution_count": 18,
   "id": "6e396169-4de8-4932-b3c8-bbdae67a44ff",
   "metadata": {},
   "outputs": [],
   "source": [
    "# Rank evaluated objects according to synthetic measure values\n",
    "rank = rank_preferences(pref, reverse = True)"
   ]
  },
  {
   "cell_type": "code",
   "execution_count": 19,
   "id": "7a9db9fa-e0be-480c-b707-be7c90b83b76",
   "metadata": {},
   "outputs": [
    {
     "data": {
      "text/plain": [
       "array([1, 3, 5, 4, 2])"
      ]
     },
     "execution_count": 19,
     "metadata": {},
     "output_type": "execute_result"
    }
   ],
   "source": [
    "rank"
   ]
  },
  {
   "cell_type": "code",
   "execution_count": 20,
   "id": "000e3a8b-9a97-4aa1-b55c-10d460122bce",
   "metadata": {},
   "outputs": [],
   "source": [
    "df_vmcm['Synthetic measure'] = pref\n",
    "df_vmcm['Class'] = classes\n",
    "df_vmcm['Rank'] = rank"
   ]
  },
  {
   "cell_type": "markdown",
   "id": "e5d1898f-2ce6-41c2-8c91-d00b56592086",
   "metadata": {},
   "source": [
    "Display results obtained using the VMCM method, including synthetic measure values, classes, and ranking."
   ]
  },
  {
   "cell_type": "code",
   "execution_count": 21,
   "id": "21cae6e9-651b-4996-abd1-4f635879b179",
   "metadata": {},
   "outputs": [
    {
     "data": {
      "text/html": [
       "<div>\n",
       "<style scoped>\n",
       "    .dataframe tbody tr th:only-of-type {\n",
       "        vertical-align: middle;\n",
       "    }\n",
       "\n",
       "    .dataframe tbody tr th {\n",
       "        vertical-align: top;\n",
       "    }\n",
       "\n",
       "    .dataframe thead th {\n",
       "        text-align: right;\n",
       "    }\n",
       "</style>\n",
       "<table border=\"1\" class=\"dataframe\">\n",
       "  <thead>\n",
       "    <tr style=\"text-align: right;\">\n",
       "      <th></th>\n",
       "      <th>Synthetic measure</th>\n",
       "      <th>Class</th>\n",
       "      <th>Rank</th>\n",
       "    </tr>\n",
       "    <tr>\n",
       "      <th>Alternative</th>\n",
       "      <th></th>\n",
       "      <th></th>\n",
       "      <th></th>\n",
       "    </tr>\n",
       "  </thead>\n",
       "  <tbody>\n",
       "    <tr>\n",
       "      <th>A1 (AD)</th>\n",
       "      <td>0.583122</td>\n",
       "      <td>1.0</td>\n",
       "      <td>1</td>\n",
       "    </tr>\n",
       "    <tr>\n",
       "      <th>A2 (LFGR)</th>\n",
       "      <td>0.415699</td>\n",
       "      <td>3.0</td>\n",
       "      <td>3</td>\n",
       "    </tr>\n",
       "    <tr>\n",
       "      <th>A3 (INC)</th>\n",
       "      <td>0.387040</td>\n",
       "      <td>3.0</td>\n",
       "      <td>5</td>\n",
       "    </tr>\n",
       "    <tr>\n",
       "      <th>A4 (GAS)</th>\n",
       "      <td>0.414069</td>\n",
       "      <td>3.0</td>\n",
       "      <td>4</td>\n",
       "    </tr>\n",
       "    <tr>\n",
       "      <th>A5 (PYR)</th>\n",
       "      <td>0.508046</td>\n",
       "      <td>2.0</td>\n",
       "      <td>2</td>\n",
       "    </tr>\n",
       "  </tbody>\n",
       "</table>\n",
       "</div>"
      ],
      "text/plain": [
       "             Synthetic measure  Class  Rank\n",
       "Alternative                                \n",
       "A1 (AD)               0.583122    1.0     1\n",
       "A2 (LFGR)             0.415699    3.0     3\n",
       "A3 (INC)              0.387040    3.0     5\n",
       "A4 (GAS)              0.414069    3.0     4\n",
       "A5 (PYR)              0.508046    2.0     2"
      ]
     },
     "execution_count": 21,
     "metadata": {},
     "output_type": "execute_result"
    }
   ],
   "source": [
    "df_vmcm"
   ]
  },
  {
   "cell_type": "markdown",
   "id": "e2eccb54-b1e6-4380-93d8-b66ac5daf2e7",
   "metadata": {},
   "source": [
    "## Comparative analysis of VMCM with other MCDA methods\n",
    "Compare VMCM ranking with rankings provided by other MCDA methods.\n",
    "\n",
    "### Create MCDA rankings to compare them with VMCM ranking."
   ]
  },
  {
   "cell_type": "code",
   "execution_count": 22,
   "id": "ac915733-1c6e-491d-9b15-b9917ee39f63",
   "metadata": {},
   "outputs": [],
   "source": [
    "# COMAPRATIVE ANALYSIS\n",
    "df_comparative = pd.DataFrame(index=df_data.index)\n",
    "df_comparative['VMCM'] = rank\n",
    "\n",
    "topsis = TOPSIS(normalization_method=norms.minmax_normalization)\n",
    "pref = topsis(matrix, weights, types)\n",
    "rank = rank_preferences(pref, reverse = True)\n",
    "df_comparative['TOPSIS'] = rank\n",
    "\n",
    "vikor = VIKOR()\n",
    "pref = vikor(matrix, weights, types)\n",
    "rank = rank_preferences(pref, reverse = False)\n",
    "df_comparative['VIKOR'] = rank\n",
    "\n",
    "edas = EDAS()\n",
    "pref = edas(matrix, weights, types)\n",
    "rank = rank_preferences(pref, reverse = True)\n",
    "df_comparative['EDAS'] = rank\n",
    "\n",
    "promethee_II = PROMETHEE_II()\n",
    "preference_functions = [promethee_II._linear_function for pf in range(len(weights))]\n",
    "pref = promethee_II(matrix, weights, types, preference_functions)\n",
    "rank = rank_preferences(pref, reverse=True)\n",
    "df_comparative['PROMETHEE II'] = rank\n",
    "\n",
    "prosa_c = PROSA_C()\n",
    "pref = prosa_c(matrix, weights, types, preference_functions)\n",
    "rank = rank_preferences(pref, reverse=True)\n",
    "df_comparative['PROSA C'] = rank"
   ]
  },
  {
   "cell_type": "markdown",
   "id": "551c3f2f-1e43-473d-abec-fcc7d5640b8a",
   "metadata": {},
   "source": [
    "### Using the CoCoSo method\n",
    "Evaluate objects with the CoCoSo method. Using this method is analogous to most MCDA methods available in the `pyrepo-mcda` package. During initialization of the COCOSO object, you can pass the type of normalization method and lambda parameter. The default normalization for this method is `minmax_normalization`. The default lambda parameter is equal to 0.5, and it is not necessary to pass it as a function argument if you want to set its value as 0.5."
   ]
  },
  {
   "cell_type": "code",
   "execution_count": 23,
   "id": "c166bfd6-dbc3-45d0-8046-93bc97810334",
   "metadata": {},
   "outputs": [],
   "source": [
    "cocoso = COCOSO(normalization_method=norms.minmax_normalization, lambda_param = 0.5)\n",
    "pref = cocoso(matrix, weights, types)\n",
    "rank = rank_preferences(pref, reverse=True)\n",
    "df_comparative['COCOSO'] = rank"
   ]
  },
  {
   "cell_type": "code",
   "execution_count": 24,
   "id": "363a76f5-3c66-481a-9d1f-ce4c06bc6ae2",
   "metadata": {},
   "outputs": [
    {
     "data": {
      "text/html": [
       "<div>\n",
       "<style scoped>\n",
       "    .dataframe tbody tr th:only-of-type {\n",
       "        vertical-align: middle;\n",
       "    }\n",
       "\n",
       "    .dataframe tbody tr th {\n",
       "        vertical-align: top;\n",
       "    }\n",
       "\n",
       "    .dataframe thead th {\n",
       "        text-align: right;\n",
       "    }\n",
       "</style>\n",
       "<table border=\"1\" class=\"dataframe\">\n",
       "  <thead>\n",
       "    <tr style=\"text-align: right;\">\n",
       "      <th></th>\n",
       "      <th>VMCM</th>\n",
       "      <th>TOPSIS</th>\n",
       "      <th>VIKOR</th>\n",
       "      <th>EDAS</th>\n",
       "      <th>PROMETHEE II</th>\n",
       "      <th>PROSA C</th>\n",
       "      <th>COCOSO</th>\n",
       "    </tr>\n",
       "    <tr>\n",
       "      <th>Alternative</th>\n",
       "      <th></th>\n",
       "      <th></th>\n",
       "      <th></th>\n",
       "      <th></th>\n",
       "      <th></th>\n",
       "      <th></th>\n",
       "      <th></th>\n",
       "    </tr>\n",
       "  </thead>\n",
       "  <tbody>\n",
       "    <tr>\n",
       "      <th>A1 (AD)</th>\n",
       "      <td>1</td>\n",
       "      <td>1</td>\n",
       "      <td>1</td>\n",
       "      <td>1</td>\n",
       "      <td>1</td>\n",
       "      <td>1</td>\n",
       "      <td>1</td>\n",
       "    </tr>\n",
       "    <tr>\n",
       "      <th>A2 (LFGR)</th>\n",
       "      <td>3</td>\n",
       "      <td>2</td>\n",
       "      <td>2</td>\n",
       "      <td>2</td>\n",
       "      <td>3</td>\n",
       "      <td>3</td>\n",
       "      <td>3</td>\n",
       "    </tr>\n",
       "    <tr>\n",
       "      <th>A3 (INC)</th>\n",
       "      <td>5</td>\n",
       "      <td>5</td>\n",
       "      <td>5</td>\n",
       "      <td>5</td>\n",
       "      <td>5</td>\n",
       "      <td>5</td>\n",
       "      <td>5</td>\n",
       "    </tr>\n",
       "    <tr>\n",
       "      <th>A4 (GAS)</th>\n",
       "      <td>4</td>\n",
       "      <td>4</td>\n",
       "      <td>4</td>\n",
       "      <td>4</td>\n",
       "      <td>4</td>\n",
       "      <td>4</td>\n",
       "      <td>4</td>\n",
       "    </tr>\n",
       "    <tr>\n",
       "      <th>A5 (PYR)</th>\n",
       "      <td>2</td>\n",
       "      <td>3</td>\n",
       "      <td>3</td>\n",
       "      <td>3</td>\n",
       "      <td>2</td>\n",
       "      <td>2</td>\n",
       "      <td>2</td>\n",
       "    </tr>\n",
       "  </tbody>\n",
       "</table>\n",
       "</div>"
      ],
      "text/plain": [
       "             VMCM  TOPSIS  VIKOR  EDAS  PROMETHEE II  PROSA C  COCOSO\n",
       "Alternative                                                          \n",
       "A1 (AD)         1       1      1     1             1        1       1\n",
       "A2 (LFGR)       3       2      2     2             3        3       3\n",
       "A3 (INC)        5       5      5     5             5        5       5\n",
       "A4 (GAS)        4       4      4     4             4        4       4\n",
       "A5 (PYR)        2       3      3     3             2        2       2"
      ]
     },
     "execution_count": 24,
     "metadata": {},
     "output_type": "execute_result"
    }
   ],
   "source": [
    "df_comparative"
   ]
  },
  {
   "cell_type": "markdown",
   "id": "9c2c0c45-2c07-49b9-910f-152d31248ed5",
   "metadata": {},
   "source": [
    "### Calculate correlations between compared rankings\n",
    "Calculate correlation values between compared rankings to evaluate their convergence."
   ]
  },
  {
   "cell_type": "code",
   "execution_count": 25,
   "id": "d12385c0-8d18-4ae9-bcca-9ffe59c81eca",
   "metadata": {},
   "outputs": [
    {
     "data": {
      "image/png": "[encoded data removed]",
      "text/plain": [
       "<Figure size 1100x500 with 2 Axes>"
      ]
     },
     "metadata": {},
     "output_type": "display_data"
    }
   ],
   "source": [
    "# Rankings correlations\n",
    "results = copy.deepcopy(df_comparative)\n",
    "method_types = list(results.columns)\n",
    "dict_new_heatmap_rw = Create_dictionary()\n",
    "\n",
    "for el in method_types:\n",
    "    dict_new_heatmap_rw.add(el, [])\n",
    "\n",
    "# heatmaps for correlations coefficients\n",
    "for i, j in [(i, j) for i in method_types[::-1] for j in method_types]:\n",
    "    dict_new_heatmap_rw[j].append(corrs.weighted_spearman(results[i], results[j]))\n",
    "\n",
    "df_new_heatmap_rw = pd.DataFrame(dict_new_heatmap_rw, index = method_types[::-1])\n",
    "df_new_heatmap_rw.columns = method_types\n",
    "\n",
    "# correlation matrix with rw coefficient\n",
    "draw_heatmap(df_new_heatmap_rw, r'$r_w$')"
   ]
  },
  {
   "cell_type": "code",
   "execution_count": null,
   "id": "e3cf45eb-9ddf-495d-b61d-0afafcca0498",
   "metadata": {},
   "outputs": [],
   "source": []
  }
 ],
 "metadata": {
  "kernelspec": {
   "display_name": "Python 3 (ipykernel)",
   "language": "python",
   "name": "python3"
  },
  "language_info": {
   "codemirror_mode": {
    "name": "ipython",
    "version": 3
   },
   "file_extension": ".py",
   "mimetype": "text/x-python",
   "name": "python",
   "nbconvert_exporter": "python",
   "pygments_lexer": "ipython3",
   "version": "3.11.5"
  }
 },
 "nbformat": 4,
 "nbformat_minor": 5
}
